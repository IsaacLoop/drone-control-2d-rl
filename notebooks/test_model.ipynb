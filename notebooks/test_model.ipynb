{
 "cells": [
  {
   "cell_type": "code",
   "execution_count": 1,
   "metadata": {},
   "outputs": [],
   "source": [
    "from src.Game import Game\n",
    "from src.SACAgent import Actor\n",
    "import torch\n",
    "import numpy as np\n",
    "import torch\n",
    "import math\n",
    "import random"
   ]
  },
  {
   "cell_type": "code",
   "execution_count": null,
   "metadata": {},
   "outputs": [],
   "source": [
    "actor = Actor(state_dim=11, action_dim=2).to(\"cuda\")\n",
    "_ = actor.load_state_dict(torch.load(\"training/backup/ckpt.pth\", map_location=\"cpu\", weights_only=False)[\"actor\"])"
   ]
  },
  {
   "cell_type": "code",
   "execution_count": 4,
   "metadata": {},
   "outputs": [],
   "source": [
    "def get_action(state):\n",
    "    with torch.no_grad():\n",
    "        _, _, a_det = actor(torch.from_numpy(state).float().to(\"cuda\").unsqueeze(0))\n",
    "    return a_det.cpu().numpy()[0]"
   ]
  },
  {
   "cell_type": "code",
   "execution_count": 5,
   "metadata": {},
   "outputs": [],
   "source": [
    "def build_state(env: Game, desired_vx: float, desired_vy: float) -> np.ndarray:\n",
    "    vx, vy = env.env.drone_velocity / 5\n",
    "    va = env.env.ang_vel / 10\n",
    "    a_cos = math.cos(env.env.drone_angle)\n",
    "    a_sin = math.sin(env.env.drone_angle)\n",
    "    wind_vx = env.env.wind_force / 10\n",
    "    rain_vy = env.env.rain_force / 10\n",
    "    propL = env.env.drone.L_speed\n",
    "    propR = env.env.drone.R_speed\n",
    "    return np.array(\n",
    "        [vx, vy, va, a_cos, a_sin, wind_vx, rain_vy, propL, propR, desired_vx / 5, desired_vy / 5],\n",
    "        dtype=np.float32,\n",
    "    )"
   ]
  },
  {
   "cell_type": "code",
   "execution_count": 6,
   "metadata": {},
   "outputs": [],
   "source": [
    "game = Game(gui=True, human_player=True, dt=1 / 144)\n",
    "game.set_drone_angle(random.uniform(0, 2 * math.pi))\n",
    "game.set_drone_velocity(random.uniform(-5, 5), random.uniform(-5, 5))\n",
    "game.set_drone_propeller_speeds(random.uniform(-1, 1), random.uniform(-1, 1))\n",
    "game.set_drone_angular_velocity(random.uniform(-math.pi, math.pi))\n",
    "while game.is_running:\n",
    "    keys = game.handle_events(control_type=\"arrow\")\n",
    "    if keys is None:\n",
    "        continue\n",
    "    desired_vx, desired_vy = 0.0, 0.0\n",
    "\n",
    "    # Handle vertical movement\n",
    "    if keys[\"UP\"] and keys[\"DOWN\"]:\n",
    "        desired_vy = 0.0  # Cancel out when both are pressed\n",
    "    elif keys[\"UP\"]:\n",
    "        desired_vy = 1.0\n",
    "    elif keys[\"DOWN\"]:\n",
    "        desired_vy = -1.0\n",
    "\n",
    "    # Handle horizontal movement\n",
    "    if keys[\"LEFT\"] and keys[\"RIGHT\"]:\n",
    "        desired_vx = 0.0  # Cancel out when both are pressed\n",
    "    elif keys[\"LEFT\"]:\n",
    "        desired_vx = -1.0\n",
    "    elif keys[\"RIGHT\"]:\n",
    "        desired_vx = 1.0\n",
    "\n",
    "    state = build_state(game, desired_vx, desired_vy)\n",
    "    action = get_action(state)\n",
    "    game.step(action[0], action[1])\n",
    "    game.render()"
   ]
  }
 ],
 "metadata": {
  "kernelspec": {
   "display_name": ".env",
   "language": "python",
   "name": "python3"
  },
  "language_info": {
   "codemirror_mode": {
    "name": "ipython",
    "version": 3
   },
   "file_extension": ".py",
   "mimetype": "text/x-python",
   "name": "python",
   "nbconvert_exporter": "python",
   "pygments_lexer": "ipython3",
   "version": "3.11.8"
  }
 },
 "nbformat": 4,
 "nbformat_minor": 2
}
