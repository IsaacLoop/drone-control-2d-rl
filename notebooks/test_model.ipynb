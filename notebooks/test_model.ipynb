{
 "cells": [
  {
   "cell_type": "code",
   "execution_count": 1,
   "metadata": {},
   "outputs": [],
   "source": [
    "from src.Game import Game\n",
    "from src.SACAgent import Actor\n",
    "import torch\n",
    "import numpy as np\n",
    "import torch\n",
    "import math\n",
    "import random"
   ]
  },
  {
   "cell_type": "code",
   "execution_count": 2,
   "metadata": {},
   "outputs": [],
   "source": [
    "actor = Actor(state_dim=9, action_dim=2, lstm_hidden_dim=128).to(\"cuda\")\n",
    "_ = actor.load_state_dict(\n",
    "    torch.load(\"training/backup/ckpt.pth\", map_location=\"cpu\", weights_only=False)[\n",
    "        \"actor\"\n",
    "    ]\n",
    ")"
   ]
  },
  {
   "cell_type": "code",
   "execution_count": 3,
   "metadata": {},
   "outputs": [],
   "source": [
    "h, c = torch.zeros(1, 1, 128).to(\"cuda\"), torch.zeros(1, 1, 128).to(\"cuda\")\n",
    "\n",
    "def get_action(state):\n",
    "    global h, c\n",
    "    with torch.no_grad():\n",
    "        _, _, a_det, (h, c) = actor(torch.from_numpy(state).float().to(\"cuda\").unsqueeze(0), (h, c))\n",
    "    return a_det.cpu().numpy()[0]"
   ]
  },
  {
   "cell_type": "code",
   "execution_count": 4,
   "metadata": {},
   "outputs": [],
   "source": [
    "def build_state(env: Game, desired_vx: float, desired_vy: float) -> np.ndarray:\n",
    "    vx, vy = env.env.drone_velocity / 5\n",
    "    va = env.env.ang_vel / 10\n",
    "    a_cos = math.cos(env.drone_angle)\n",
    "    a_sin = math.sin(env.drone_angle)\n",
    "    propL = env.env.drone.L_speed\n",
    "    propR = env.env.drone.R_speed\n",
    "    return np.array(\n",
    "        [\n",
    "            vx,\n",
    "            vy,\n",
    "            va,\n",
    "            a_cos,\n",
    "            a_sin,\n",
    "            propL,\n",
    "            propR,\n",
    "            desired_vx / 5,\n",
    "            desired_vy / 5,\n",
    "        ],\n",
    "        dtype=np.float32,\n",
    "    )"
   ]
  },
  {
   "cell_type": "code",
   "execution_count": 7,
   "metadata": {},
   "outputs": [],
   "source": [
    "game = Game(gui=True, human_player=True, dt=1 / 144, wind=True, rain=True)\n",
    "game.set_drone_angle(random.uniform(0, 2 * math.pi))\n",
    "game.set_drone_velocity(random.uniform(-5, 5), random.uniform(-5, 5))\n",
    "game.set_drone_propeller_speeds(random.uniform(-1, 1), random.uniform(-1, 1))\n",
    "game.set_drone_angular_velocity(random.uniform(-math.pi, math.pi))\n",
    "while game.is_running:\n",
    "    keys = game.handle_events(control_type=\"arrow\")\n",
    "    if keys is None:\n",
    "        continue\n",
    "    desired_vx, desired_vy = 0.0, 0.0\n",
    "\n",
    "    # Handle vertical movement\n",
    "    if keys[\"UP\"] and keys[\"DOWN\"]:\n",
    "        desired_vy = 0.0  # Cancel out when both are pressed\n",
    "    elif keys[\"UP\"]:\n",
    "        desired_vy = 5.0\n",
    "    elif keys[\"DOWN\"]:\n",
    "        desired_vy = -5.0\n",
    "\n",
    "    # Handle horizontal movement\n",
    "    if keys[\"LEFT\"] and keys[\"RIGHT\"]:\n",
    "        desired_vx = 0.0  # Cancel out when both are pressed\n",
    "    elif keys[\"LEFT\"]:\n",
    "        desired_vx = -5.0\n",
    "    elif keys[\"RIGHT\"]:\n",
    "        desired_vx = 5.0\n",
    "\n",
    "    state = build_state(game, desired_vx, desired_vy)\n",
    "    action = get_action(state)\n",
    "    game.step(action[0], action[1])\n",
    "    game.render()"
   ]
  }
 ],
 "metadata": {
  "kernelspec": {
   "display_name": ".env",
   "language": "python",
   "name": "python3"
  },
  "language_info": {
   "codemirror_mode": {
    "name": "ipython",
    "version": 3
   },
   "file_extension": ".py",
   "mimetype": "text/x-python",
   "name": "python",
   "nbconvert_exporter": "python",
   "pygments_lexer": "ipython3",
   "version": "3.11.8"
  }
 },
 "nbformat": 4,
 "nbformat_minor": 2
}
